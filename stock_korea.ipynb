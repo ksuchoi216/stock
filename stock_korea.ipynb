{
 "cells": [
  {
   "cell_type": "code",
   "execution_count": 12,
   "metadata": {},
   "outputs": [],
   "source": [
    "from pykrx import stock\n",
    "import time"
   ]
  },
  {
   "cell_type": "code",
   "execution_count": 13,
   "metadata": {},
   "outputs": [
    {
     "name": "stdout",
     "output_type": "stream",
     "text": [
      "3S\n"
     ]
    },
    {
     "data": {
      "text/html": [
       "<div>\n",
       "<style scoped>\n",
       "    .dataframe tbody tr th:only-of-type {\n",
       "        vertical-align: middle;\n",
       "    }\n",
       "\n",
       "    .dataframe tbody tr th {\n",
       "        vertical-align: top;\n",
       "    }\n",
       "\n",
       "    .dataframe thead th {\n",
       "        text-align: right;\n",
       "    }\n",
       "</style>\n",
       "<table border=\"1\" class=\"dataframe\">\n",
       "  <thead>\n",
       "    <tr style=\"text-align: right;\">\n",
       "      <th></th>\n",
       "      <th>시가</th>\n",
       "      <th>고가</th>\n",
       "      <th>저가</th>\n",
       "      <th>종가</th>\n",
       "      <th>거래량</th>\n",
       "      <th>거래대금</th>\n",
       "      <th>등락률</th>\n",
       "    </tr>\n",
       "    <tr>\n",
       "      <th>날짜</th>\n",
       "      <th></th>\n",
       "      <th></th>\n",
       "      <th></th>\n",
       "      <th></th>\n",
       "      <th></th>\n",
       "      <th></th>\n",
       "      <th></th>\n",
       "    </tr>\n",
       "  </thead>\n",
       "  <tbody>\n",
       "    <tr>\n",
       "      <th>2023-02-01</th>\n",
       "      <td>2270</td>\n",
       "      <td>2320</td>\n",
       "      <td>2270</td>\n",
       "      <td>2310</td>\n",
       "      <td>125580</td>\n",
       "      <td>289275800</td>\n",
       "      <td>1.54</td>\n",
       "    </tr>\n",
       "    <tr>\n",
       "      <th>2023-02-02</th>\n",
       "      <td>2320</td>\n",
       "      <td>2345</td>\n",
       "      <td>2310</td>\n",
       "      <td>2325</td>\n",
       "      <td>190650</td>\n",
       "      <td>444102005</td>\n",
       "      <td>0.65</td>\n",
       "    </tr>\n",
       "    <tr>\n",
       "      <th>2023-02-03</th>\n",
       "      <td>2335</td>\n",
       "      <td>2455</td>\n",
       "      <td>2335</td>\n",
       "      <td>2350</td>\n",
       "      <td>310406</td>\n",
       "      <td>740380380</td>\n",
       "      <td>1.08</td>\n",
       "    </tr>\n",
       "  </tbody>\n",
       "</table>\n",
       "</div>"
      ],
      "text/plain": [
       "              시가    고가    저가    종가     거래량       거래대금   등락률\n",
       "날짜                                                         \n",
       "2023-02-01  2270  2320  2270  2310  125580  289275800  1.54\n",
       "2023-02-02  2320  2345  2310  2325  190650  444102005  0.65\n",
       "2023-02-03  2335  2455  2335  2350  310406  740380380  1.08"
      ]
     },
     "metadata": {},
     "output_type": "display_data"
    },
    {
     "name": "stdout",
     "output_type": "stream",
     "text": [
      "APS\n"
     ]
    },
    {
     "data": {
      "text/html": [
       "<div>\n",
       "<style scoped>\n",
       "    .dataframe tbody tr th:only-of-type {\n",
       "        vertical-align: middle;\n",
       "    }\n",
       "\n",
       "    .dataframe tbody tr th {\n",
       "        vertical-align: top;\n",
       "    }\n",
       "\n",
       "    .dataframe thead th {\n",
       "        text-align: right;\n",
       "    }\n",
       "</style>\n",
       "<table border=\"1\" class=\"dataframe\">\n",
       "  <thead>\n",
       "    <tr style=\"text-align: right;\">\n",
       "      <th></th>\n",
       "      <th>시가</th>\n",
       "      <th>고가</th>\n",
       "      <th>저가</th>\n",
       "      <th>종가</th>\n",
       "      <th>거래량</th>\n",
       "      <th>거래대금</th>\n",
       "      <th>등락률</th>\n",
       "    </tr>\n",
       "    <tr>\n",
       "      <th>날짜</th>\n",
       "      <th></th>\n",
       "      <th></th>\n",
       "      <th></th>\n",
       "      <th></th>\n",
       "      <th></th>\n",
       "      <th></th>\n",
       "      <th></th>\n",
       "    </tr>\n",
       "  </thead>\n",
       "  <tbody>\n",
       "    <tr>\n",
       "      <th>2023-02-01</th>\n",
       "      <td>14000</td>\n",
       "      <td>14230</td>\n",
       "      <td>13800</td>\n",
       "      <td>13870</td>\n",
       "      <td>116578</td>\n",
       "      <td>1632913940</td>\n",
       "      <td>-1.35</td>\n",
       "    </tr>\n",
       "    <tr>\n",
       "      <th>2023-02-02</th>\n",
       "      <td>14350</td>\n",
       "      <td>15000</td>\n",
       "      <td>13900</td>\n",
       "      <td>13980</td>\n",
       "      <td>221607</td>\n",
       "      <td>3182632330</td>\n",
       "      <td>0.79</td>\n",
       "    </tr>\n",
       "    <tr>\n",
       "      <th>2023-02-03</th>\n",
       "      <td>14150</td>\n",
       "      <td>14650</td>\n",
       "      <td>13870</td>\n",
       "      <td>14350</td>\n",
       "      <td>174408</td>\n",
       "      <td>2486866270</td>\n",
       "      <td>2.65</td>\n",
       "    </tr>\n",
       "  </tbody>\n",
       "</table>\n",
       "</div>"
      ],
      "text/plain": [
       "               시가     고가     저가     종가     거래량        거래대금   등락률\n",
       "날짜                                                              \n",
       "2023-02-01  14000  14230  13800  13870  116578  1632913940 -1.35\n",
       "2023-02-02  14350  15000  13900  13980  221607  3182632330  0.79\n",
       "2023-02-03  14150  14650  13870  14350  174408  2486866270  2.65"
      ]
     },
     "metadata": {},
     "output_type": "display_data"
    },
    {
     "name": "stdout",
     "output_type": "stream",
     "text": [
      "AP시스템\n"
     ]
    },
    {
     "data": {
      "text/html": [
       "<div>\n",
       "<style scoped>\n",
       "    .dataframe tbody tr th:only-of-type {\n",
       "        vertical-align: middle;\n",
       "    }\n",
       "\n",
       "    .dataframe tbody tr th {\n",
       "        vertical-align: top;\n",
       "    }\n",
       "\n",
       "    .dataframe thead th {\n",
       "        text-align: right;\n",
       "    }\n",
       "</style>\n",
       "<table border=\"1\" class=\"dataframe\">\n",
       "  <thead>\n",
       "    <tr style=\"text-align: right;\">\n",
       "      <th></th>\n",
       "      <th>시가</th>\n",
       "      <th>고가</th>\n",
       "      <th>저가</th>\n",
       "      <th>종가</th>\n",
       "      <th>거래량</th>\n",
       "      <th>거래대금</th>\n",
       "      <th>등락률</th>\n",
       "    </tr>\n",
       "    <tr>\n",
       "      <th>날짜</th>\n",
       "      <th></th>\n",
       "      <th></th>\n",
       "      <th></th>\n",
       "      <th></th>\n",
       "      <th></th>\n",
       "      <th></th>\n",
       "      <th></th>\n",
       "    </tr>\n",
       "  </thead>\n",
       "  <tbody>\n",
       "    <tr>\n",
       "      <th>2023-02-01</th>\n",
       "      <td>19040</td>\n",
       "      <td>19330</td>\n",
       "      <td>19040</td>\n",
       "      <td>19180</td>\n",
       "      <td>52041</td>\n",
       "      <td>1000329360</td>\n",
       "      <td>0.63</td>\n",
       "    </tr>\n",
       "    <tr>\n",
       "      <th>2023-02-02</th>\n",
       "      <td>19390</td>\n",
       "      <td>19790</td>\n",
       "      <td>19280</td>\n",
       "      <td>19790</td>\n",
       "      <td>130909</td>\n",
       "      <td>2560597710</td>\n",
       "      <td>3.18</td>\n",
       "    </tr>\n",
       "    <tr>\n",
       "      <th>2023-02-03</th>\n",
       "      <td>19890</td>\n",
       "      <td>20000</td>\n",
       "      <td>19560</td>\n",
       "      <td>19610</td>\n",
       "      <td>93458</td>\n",
       "      <td>1847027250</td>\n",
       "      <td>-0.91</td>\n",
       "    </tr>\n",
       "  </tbody>\n",
       "</table>\n",
       "</div>"
      ],
      "text/plain": [
       "               시가     고가     저가     종가     거래량        거래대금   등락률\n",
       "날짜                                                              \n",
       "2023-02-01  19040  19330  19040  19180   52041  1000329360  0.63\n",
       "2023-02-02  19390  19790  19280  19790  130909  2560597710  3.18\n",
       "2023-02-03  19890  20000  19560  19610   93458  1847027250 -0.91"
      ]
     },
     "metadata": {},
     "output_type": "display_data"
    }
   ],
   "source": [
    "# (market: KOSPI/KOSDAQ/KONEX/ALL)\n",
    "tickers = stock.get_market_ticker_list(\"20200103\", market=\"KOSDAQ\")\n",
    "# print(tickers)\n",
    "\n",
    "\n",
    "for i, ticker in enumerate(stock.get_market_ticker_list(\"20200103\", market=\"KOSDAQ\")):\n",
    "    if i >= 3:\n",
    "        break\n",
    "    name = stock.get_market_ticker_name(ticker)\n",
    "\n",
    "    print(name)\n",
    "\n",
    "    df = stock.get_market_ohlcv(\"20230201\", \"20230203\", ticker, \"d\", adjusted=False)\n",
    "    display(df)\n",
    "    time.sleep(1)"
   ]
  },
  {
   "cell_type": "code",
   "execution_count": 14,
   "metadata": {},
   "outputs": [
    {
     "name": "stdout",
     "output_type": "stream",
     "text": [
      "           시가     고가     저가     종가      거래량         거래대금    등락률\n",
      "티커                                                             \n",
      "095570   4190   4245   4160   4210   216835    910274405   0.84\n",
      "006840  25750  29550  25600  29100   727088  20462325950  12.57\n",
      "027410   5020   5250   4955   5220  1547629   7990770515   4.19\n"
     ]
    }
   ],
   "source": [
    "df = stock.get_market_ohlcv(\"20210122\")\n",
    "print(df.head(3))"
   ]
  },
  {
   "cell_type": "code",
   "execution_count": 15,
   "metadata": {},
   "outputs": [
    {
     "name": "stdout",
     "output_type": "stream",
     "text": [
      "           종목명    시가    종가  변동폭   등락률      거래량         거래대금\n",
      "티커                                                         \n",
      "060310      3S  2090  2235  145  6.94  4587644   9959966435\n",
      "054620  APS홀딩스  8610  8430 -180 -2.09  2196806  17808025570\n"
     ]
    }
   ],
   "source": [
    "df = stock.get_market_price_change(\"20180301\", \"20180320\", market=\"KOSDAQ\")\n",
    "print(df.head(2))"
   ]
  },
  {
   "cell_type": "code",
   "execution_count": 16,
   "metadata": {},
   "outputs": [
    {
     "name": "stdout",
     "output_type": "stream",
     "text": [
      "          BPS    PER   PBR   EPS   DIV  DPS\n",
      "티커                                         \n",
      "095570   6802   4.62  0.67   982  6.61  300\n",
      "006840  62448  11.69  0.41  2168  2.96  750\n"
     ]
    }
   ],
   "source": [
    "df = stock.get_market_fundamental(\"20210108\")\n",
    "print(df.head(2))"
   ]
  },
  {
   "cell_type": "code",
   "execution_count": 18,
   "metadata": {},
   "outputs": [
    {
     "name": "stdout",
     "output_type": "stream",
     "text": [
      "          BPS  PER   PBR  EPS  DIV  DPS\n",
      "티커                                     \n",
      "060310    745  0.0  3.03    0  0.0    0\n",
      "054620  10530  0.0  0.76    0  0.0    0\n"
     ]
    }
   ],
   "source": [
    "df = stock.get_market_fundamental(\"20210104\", market=\"KOSDAQ\")\n",
    "print(df.head(2))"
   ]
  },
  {
   "cell_type": "code",
   "execution_count": 19,
   "metadata": {},
   "outputs": [
    {
     "name": "stdout",
     "output_type": "stream",
     "text": [
      "                    기관합계         기타법인            개인         외국인합계  전체\n",
      "날짜                                                                   \n",
      "2021-01-15 -440769209300  25442287800  661609085600 -246282164100   0\n",
      "2021-01-18   42323535000  22682344800   14829121700  -79835001500   0\n",
      "2021-01-19   95523053500  -3250422500 -173484213300   81211582300   0\n",
      "2021-01-20 -364476214000  22980632900  430115581000  -88619999900   0\n",
      "2021-01-21  -60637506300 -27880854000  250285510000 -161767149700   0\n"
     ]
    }
   ],
   "source": [
    "df = stock.get_market_trading_value_by_date(\"20210115\", \"20210122\", \"005930\")\n",
    "print(df.head())"
   ]
  },
  {
   "cell_type": "code",
   "execution_count": 20,
   "metadata": {},
   "outputs": [
    {
     "name": "stdout",
     "output_type": "stream",
     "text": [
      "               기관합계    기타법인       개인    외국인합계  전체\n",
      "날짜                                               \n",
      "2021-01-15 -5006115  288832  7485785 -2768502   0\n",
      "2021-01-18   505669  262604   151228  -919501   0\n",
      "2021-01-19  1139258  -34023 -2044543   939308   0\n",
      "2021-01-20 -4157919  262408  4917655 -1022144   0\n",
      "2021-01-21  -712099 -321732  2890389 -1856558   0\n"
     ]
    }
   ],
   "source": [
    "df = stock.get_market_trading_volume_by_date(\"20210115\", \"20210122\", \"005930\")\n",
    "print(df.head())"
   ]
  }
 ],
 "metadata": {
  "kernelspec": {
   "display_name": "main",
   "language": "python",
   "name": "python3"
  },
  "language_info": {
   "codemirror_mode": {
    "name": "ipython",
    "version": 3
   },
   "file_extension": ".py",
   "mimetype": "text/x-python",
   "name": "python",
   "nbconvert_exporter": "python",
   "pygments_lexer": "ipython3",
   "version": "3.10.0"
  }
 },
 "nbformat": 4,
 "nbformat_minor": 2
}
